{
  "nbformat": 4,
  "nbformat_minor": 0,
  "metadata": {
    "colab": {
      "name": "Housing regression",
      "provenance": [],
      "collapsed_sections": [],
      "authorship_tag": "ABX9TyN5OH10YXYu25DCQZurrSub",
      "include_colab_link": true
    },
    "kernelspec": {
      "name": "python3",
      "display_name": "Python 3"
    },
    "language_info": {
      "name": "python"
    }
  },
  "cells": [
    {
      "cell_type": "markdown",
      "metadata": {
        "id": "view-in-github",
        "colab_type": "text"
      },
      "source": [
        "<a href=\"https://colab.research.google.com/github/Mikd14/Projects/blob/main/Machine-learning/Housing_regression.ipynb\" target=\"_parent\"><img src=\"https://colab.research.google.com/assets/colab-badge.svg\" alt=\"Open In Colab\"/></a>"
      ]
    },
    {
      "cell_type": "code",
      "execution_count": null,
      "metadata": {
        "id": "DMKTZFi57wNb"
      },
      "outputs": [],
      "source": [
        "import numpy as np\n",
        "import pandas as pd\n",
        "import matplotlib.pyplot as plt\n",
        "from sklearn.pipeline import Pipeline\n",
        "from sklearn.preprocessing import StandardScaler, OneHotEncoder\n",
        "from sklearn.impute import SimpleImputer\n",
        "from sklearn.compose import ColumnTransformer\n",
        "from sklearn.ensemble import RandomForestRegressor\n",
        "from sklearn.model_selection import KFold, cross_val_score, GridSearchCV\n",
        "pd.set_option('display.max_rows', 500)\n",
        "%matplotlib inline \n",
        "plt.rcParams['figure.figsize'] = [25, 15]"
      ]
    },
    {
      "cell_type": "code",
      "source": [
        "from google.colab import drive\n",
        "drive.mount('/content/drive')"
      ],
      "metadata": {
        "id": "k-t-DDE8F0mv",
        "colab": {
          "base_uri": "https://localhost:8080/"
        },
        "outputId": "1a7710ff-aeaa-48c9-bf60-940ac251c9a1"
      },
      "execution_count": null,
      "outputs": [
        {
          "output_type": "stream",
          "name": "stdout",
          "text": [
            "Mounted at /content/drive\n"
          ]
        }
      ]
    },
    {
      "cell_type": "code",
      "source": [
        "train = pd.read_csv('/content/drive/MyDrive/Housing Prices/train.csv')\n",
        "test = pd.read_csv('/content/drive/MyDrive/Housing Prices/test.csv')\n",
        "\n",
        "X = train.drop(['Id', 'SalePrice'], axis=1)\n",
        "y = train['SalePrice'].copy()\n",
        "\n",
        "X_test = test.drop('Id', axis=1)"
      ],
      "metadata": {
        "id": "xraMVNwtHv4E"
      },
      "execution_count": null,
      "outputs": []
    },
    {
      "cell_type": "code",
      "source": [
        "#drop columns that are less than 50% full\n",
        "sparse_cols = [col for col in X.columns if ((X[col].isna().sum() / 1000) > 0.5)]\n",
        "X = X.drop(sparse_cols, axis=1)\n",
        "\n",
        "X_test = X_test.drop(sparse_cols, axis=1)"
      ],
      "metadata": {
        "id": "9u7w4hnURbFs"
      },
      "execution_count": null,
      "outputs": []
    },
    {
      "cell_type": "code",
      "source": [
        "num_cols = [col for col in X.columns if X[col].dtype in ['float64', 'int64']]\n",
        "cat_cols = [col for col in X.columns if X[col].dtype == 'object']"
      ],
      "metadata": {
        "id": "aIRxmHvcL09S"
      },
      "execution_count": null,
      "outputs": []
    },
    {
      "cell_type": "code",
      "source": [
        "def reduce_mem_usage(df, verbose=True):\n",
        "    numerics = ['int8','int16', 'int32', 'int64', 'float16',\n",
        "                'float32', 'float64']\n",
        "    for col in df.columns:\n",
        "        if df[col].dtype=='bool':\n",
        "            df[col] = df[col].astype(int)\n",
        "    start_mem = df.memory_usage().sum() / 1024**2\n",
        "\n",
        "    for col in df.columns:\n",
        "        col_type = df[col].dtypes\n",
        "        if col_type in numerics:\n",
        "            c_min = df[col].min()\n",
        "            c_max = df[col].max()\n",
        "            #change int type to lowest poss\n",
        "            if str(col_type)[:3] == 'int':\n",
        "                if c_min > np.iinfo(np.int8).min and c_max < np.iinfo(np.int8).max:\n",
        "                    df[col] = df[col].astype(np.int8)\n",
        "                elif c_min > np.iinfo(np.int16).min and c_max < np.iinfo(np.int16).max:\n",
        "                    df[col] = df[col].astype(np.int16)\n",
        "                elif c_min > np.iinfo(np.int32).min and c_max < np.iinfo(np.int32).max:\n",
        "                    df[col] = df[col].astype(np.int32)\n",
        "                elif c_min > np.iinfo(np.int64).min and c_max < np.iinfo(np.int64).max:\n",
        "                    df[col] = df[col].astype(np.int64)\n",
        "            else:\n",
        "                if c_min > np.finfo(np.float16).min and c_max < np.finfo(np.float16).max:\n",
        "                    df[col] = df[col].astype(np.float16)\n",
        "                elif c_min > np.finfo(np.float32).min and c_max < np.finfo(np.float32).max:\n",
        "                    df[col] = df[col].astype(np.float32)\n",
        "                else:\n",
        "                    df[col] = df[col].astype(np.float64)\n",
        "    end_mem = df.memory_usage().sum() / 1024**2\n",
        "    if verbose: print('Mem. usage decreased to {:5.2f} Mb ({:.1f}% reduction)'.format(end_mem, 100 * (start_mem - end_mem) / start_mem))\n",
        "    return df\n",
        "\n",
        "X = reduce_mem_usage(X)\n",
        "X_test = reduce_mem_usage(X_test)\n"
      ],
      "metadata": {
        "colab": {
          "base_uri": "https://localhost:8080/"
        },
        "id": "7UkmXKSGGQPK",
        "outputId": "9b61ced0-4807-4be6-9267-c890312716f5"
      },
      "execution_count": null,
      "outputs": [
        {
          "output_type": "stream",
          "name": "stdout",
          "text": [
            "Mem. usage decreased to  0.51 Mb (38.2% reduction)\n",
            "Mem. usage decreased to  0.51 Mb (37.7% reduction)\n"
          ]
        }
      ]
    },
    {
      "cell_type": "code",
      "source": [
        "#histograms of num cols\n",
        "\n",
        "X[num_cols].hist()\n",
        "plt.figure(figsize=(8,8))\n"
      ],
      "metadata": {
        "id": "Nui1zFYTO2aT"
      },
      "execution_count": null,
      "outputs": []
    },
    {
      "cell_type": "code",
      "source": [
        "#scatter graphs of num cols  --  too many variables on this df\n",
        "\n",
        "pd.plotting.scatter_matrix(X[num_cols])\n",
        "plt.show()"
      ],
      "metadata": {
        "id": "VLwfDCH6XuqE"
      },
      "execution_count": null,
      "outputs": []
    },
    {
      "cell_type": "code",
      "source": [
        "#prep data\n",
        "num_pipeline = Pipeline([\n",
        "        ('imputer', SimpleImputer(strategy='median')),\n",
        "         ('Scaler', StandardScaler())\n",
        "        ])\n",
        "\n",
        "full_pipeline = ColumnTransformer([\n",
        "            ('num_transformer', num_pipeline, num_cols),\n",
        "            ('cat', OneHotEncoder(handle_unknown='ignore'), cat_cols)\n",
        "])\n",
        "\n",
        "preped_X = full_pipeline.fit_transform(X)\n",
        "preped_X_test = full_pipeline.transform(X_test)"
      ],
      "metadata": {
        "id": "fUhchs1uZMET"
      },
      "execution_count": null,
      "outputs": []
    },
    {
      "cell_type": "code",
      "source": [
        "\n",
        "def display_scores(scores):\n",
        "    print('Scores:', scores)\n",
        "    print('Mean:', scores.mean())\n",
        "    print('Standard Deviation:', scores.std()) \n",
        "\n",
        "display_scores(scores)"
      ],
      "metadata": {
        "id": "7E_wVnKuHhWS",
        "colab": {
          "base_uri": "https://localhost:8080/"
        },
        "outputId": "5a5ac142-3b47-478d-99f2-216920fa380d"
      },
      "execution_count": null,
      "outputs": [
        {
          "output_type": "stream",
          "name": "stdout",
          "text": [
            "Scores: [-14709.34670175 -15976.78058425 -15466.30197081]\n",
            "Mean: -15384.143085602025\n",
            "Standard Deviation: 520.6788667664578\n"
          ]
        }
      ]
    },
    {
      "cell_type": "code",
      "source": [
        ""
      ],
      "metadata": {
        "id": "O-PWx5xUJvts"
      },
      "execution_count": null,
      "outputs": []
    },
    {
      "cell_type": "code",
      "source": [
        "#grid search and fine tune hyperparameters\n",
        "\n",
        "params = {'n_estimators': [ 20, 50, 100, 200 ],\n",
        "        }\n",
        "\n",
        "grid_search = GridSearchCV(model, params, cv=5,\n",
        "                           scoring='neg_mean_squared_error',\n",
        "                           return_train_score=True)\n",
        "\n",
        "grid_search.fit(preped_X, y)\n",
        "\n",
        "grid_search.best_params_\n",
        "\n",
        "cvres = grid_search.cv_results_\n",
        "for mean, params in zip(cvres['mean_test_score'], cvres['params']):\n",
        "  print(((-mean)**0.5), params)"
      ],
      "metadata": {
        "colab": {
          "base_uri": "https://localhost:8080/"
        },
        "id": "GGrQ6af2KaXZ",
        "outputId": "22f7e7d4-c5e5-40da-9730-886466da5431"
      },
      "execution_count": null,
      "outputs": [
        {
          "output_type": "stream",
          "name": "stdout",
          "text": [
            "31254.02039407175 {'n_estimators': 20}\n",
            "30554.113317611907 {'n_estimators': 50}\n",
            "30380.79782904145 {'n_estimators': 100}\n",
            "30317.57588529509 {'n_estimators': 200}\n"
          ]
        }
      ]
    },
    {
      "cell_type": "code",
      "source": [
        "#display feature importance and corresponding category in each column\n",
        "feature_importances = grid_search.best_estimator_.feature_importances_\n",
        " \n",
        " \n",
        "cat_encoder = full_pipeline.named_transformers_['cat']\n",
        "cat_one_hot_attribs = list(cat_encoder.categories_[0])\n",
        "attribs = num_cols + cat_one_hot_attribs\n",
        "\n",
        "\n",
        "sorted(zip(feature_importances, attribs), reverse=True)"
      ],
      "metadata": {
        "id": "sjnuy8PRPQ2Z"
      },
      "execution_count": null,
      "outputs": []
    },
    {
      "cell_type": "code",
      "source": [
        "#try XGBRegressor\n",
        "from xgboost.sklearn import XGBRegressor\n",
        "import xgboost as xgb \n",
        "from sklearn import metrics\n",
        "\n",
        "#function to test effect of changing hyperparameters\n",
        "def modelfit(alg, X, y, useTrainCV=True, cv_folds=5, early_stopping_rounds=10):\n",
        "  xgb_param = alg.get_xgb_params()\n",
        "  xgtrain = xgb.DMatrix(X, y)\n",
        "  cvresult = xgb.cv(xgb_param, xgtrain, num_boost_round=alg.get_params()['n_estimators'], nfold=cv_folds,\n",
        "            metrics='mae', early_stopping_rounds=early_stopping_rounds)\n",
        "  alg.set_params(n_estimators=cvresult.shape[0])\n",
        "\n",
        "  #Fit the algorithm on the data\n",
        "  alg.fit(X, y ,eval_metric='mae')\n",
        "\n",
        "  #Predict training set:\n",
        "  X_train_predictions = alg.predict(X)\n",
        "\n",
        "  print(\"\\nModel Report\")\n",
        "  print(\"Accuracy : %.7g\" % metrics.mean_absolute_error(y, X_train_predictions))\n",
        "  print(alg.get_booster().best_iteration)\n",
        "\n",
        "  #feat_imp = pd.Series(alg.get_booster().get_fscore()).sort_values(ascending=False)\n",
        "  #feat_imp.plot(kind='bar', title='Feature Importances')\n",
        "  #plt.ylabel('Feature Importance Score')\n",
        "\n",
        "modelfit(xgb1, preped_X, y)"
      ],
      "metadata": {
        "id": "hYVWVuPBVGxW",
        "colab": {
          "base_uri": "https://localhost:8080/"
        },
        "outputId": "683a037a-bc8f-48b1-d6ce-8a5a9a42740f"
      },
      "execution_count": null,
      "outputs": [
        {
          "output_type": "stream",
          "name": "stdout",
          "text": [
            "[19:22:08] WARNING: /workspace/src/objective/regression_obj.cu:152: reg:linear is now deprecated in favor of reg:squarederror.\n",
            "[19:22:08] WARNING: /workspace/src/objective/regression_obj.cu:152: reg:linear is now deprecated in favor of reg:squarederror.\n",
            "[19:22:08] WARNING: /workspace/src/objective/regression_obj.cu:152: reg:linear is now deprecated in favor of reg:squarederror.\n",
            "[19:22:08] WARNING: /workspace/src/objective/regression_obj.cu:152: reg:linear is now deprecated in favor of reg:squarederror.\n",
            "[19:22:08] WARNING: /workspace/src/objective/regression_obj.cu:152: reg:linear is now deprecated in favor of reg:squarederror.\n",
            "[19:22:17] WARNING: /workspace/src/objective/regression_obj.cu:152: reg:linear is now deprecated in favor of reg:squarederror.\n",
            "\n",
            "Model Report\n",
            "Accuracy : 4803.835\n",
            "299\n"
          ]
        }
      ]
    },
    {
      "cell_type": "code",
      "source": [
        "param_test1 = {\n",
        " 'gamma':[i/10.0 for i in range(0,5)]\n",
        " \n",
        "}\n",
        "\n",
        "gsearch1 = GridSearchCV(estimator = XGBRegressor( learning_rate =0.1, n_estimators=137, max_depth=5,\n",
        " min_child_weight=2, gamma=0, subsample=0.8, colsample_bytree=0.8, seed=27), \n",
        " param_grid = param_test1, scoring='neg_mean_absolute_error',n_jobs=-1, cv=5)\n",
        "gsearch1.fit(preped_X ,y)\n",
        "gsearch1.cv_results_, gsearch1.best_params_, gsearch1.best_score_\n",
        "\n",
        "cvresults = gsearch1.cv_results_\n",
        "for mean, params in zip(cvresults['mean_test_score'], cvresults['params']):\n",
        "  print((-mean), params)\n",
        "\n",
        "gsearch1.best_params_"
      ],
      "metadata": {
        "colab": {
          "base_uri": "https://localhost:8080/"
        },
        "id": "LslyJuCuey5j",
        "outputId": "cf98a0bb-7432-43e7-8fcf-64489e0ffaa5"
      },
      "execution_count": null,
      "outputs": [
        {
          "output_type": "stream",
          "name": "stdout",
          "text": [
            "[21:19:04] WARNING: /workspace/src/objective/regression_obj.cu:152: reg:linear is now deprecated in favor of reg:squarederror.\n",
            "15578.073450877568 {'gamma': 0.0}\n",
            "15578.073450877568 {'gamma': 0.1}\n",
            "15578.073450877568 {'gamma': 0.2}\n",
            "15578.073450877568 {'gamma': 0.3}\n",
            "15578.073450877568 {'gamma': 0.4}\n"
          ]
        },
        {
          "output_type": "execute_result",
          "data": {
            "text/plain": [
              "{'gamma': 0.0}"
            ]
          },
          "metadata": {},
          "execution_count": 85
        }
      ]
    },
    {
      "cell_type": "code",
      "source": [
        "param_test4 =  {\n",
        " 'subsample':[i/10.0 for i in range(6,10)],\n",
        " 'colsample_bytree':[i/10.0 for i in range(6,10)]\n",
        "}\n",
        "\n",
        "\n",
        "gsearch4 = GridSearchCV(estimator = XGBRegressor( learning_rate =0.1, n_estimators=137, max_depth=5,\n",
        " min_child_weight=2, gamma=0, subsample=0.8, colsample_bytree=0.8, seed=27), \n",
        " param_grid = param_test4, scoring='neg_mean_absolute_error',n_jobs=-1, cv=5)\n",
        "gsearch4.fit(preped_X ,y)\n",
        "gsearch4.cv_results_, gsearch1.best_params_, gsearch1.best_score_\n",
        "\n",
        "cvresults = gsearch4.cv_results_\n",
        "for mean, params in zip(cvresults['mean_test_score'], cvresults['params']):\n",
        "  print((-mean), params)\n",
        "\n",
        "gsearch4.best_params_"
      ],
      "metadata": {
        "colab": {
          "base_uri": "https://localhost:8080/"
        },
        "id": "uMYIJfhXkZsM",
        "outputId": "686f3b33-ba2a-4661-8422-0480ec5327a3"
      },
      "execution_count": null,
      "outputs": [
        {
          "output_type": "stream",
          "name": "stdout",
          "text": [
            "[21:23:02] WARNING: /workspace/src/objective/regression_obj.cu:152: reg:linear is now deprecated in favor of reg:squarederror.\n",
            "15135.722270976028 {'colsample_bytree': 0.6, 'subsample': 0.6}\n",
            "15549.11831656678 {'colsample_bytree': 0.6, 'subsample': 0.7}\n",
            "15674.794790774828 {'colsample_bytree': 0.6, 'subsample': 0.8}\n",
            "15423.304433326199 {'colsample_bytree': 0.6, 'subsample': 0.9}\n",
            "15257.6826760488 {'colsample_bytree': 0.7, 'subsample': 0.6}\n",
            "15423.744271725172 {'colsample_bytree': 0.7, 'subsample': 0.7}\n",
            "15522.226763163528 {'colsample_bytree': 0.7, 'subsample': 0.8}\n",
            "15675.820558647261 {'colsample_bytree': 0.7, 'subsample': 0.9}\n",
            "15104.542206228594 {'colsample_bytree': 0.8, 'subsample': 0.6}\n",
            "15709.588088613014 {'colsample_bytree': 0.8, 'subsample': 0.7}\n",
            "15578.073450877568 {'colsample_bytree': 0.8, 'subsample': 0.8}\n",
            "15731.774579944347 {'colsample_bytree': 0.8, 'subsample': 0.9}\n",
            "15326.178994541953 {'colsample_bytree': 0.9, 'subsample': 0.6}\n",
            "15764.25783390411 {'colsample_bytree': 0.9, 'subsample': 0.7}\n",
            "15658.971385380992 {'colsample_bytree': 0.9, 'subsample': 0.8}\n",
            "15658.344226241437 {'colsample_bytree': 0.9, 'subsample': 0.9}\n"
          ]
        },
        {
          "output_type": "execute_result",
          "data": {
            "text/plain": [
              "{'colsample_bytree': 0.8, 'subsample': 0.6}"
            ]
          },
          "metadata": {},
          "execution_count": 90
        }
      ]
    },
    {
      "cell_type": "code",
      "source": [
        "#param test found 0.6 and 0.8 as best, check at smaller increments here, e.g 0.05's\n",
        "\n",
        "param_test5 =  {\n",
        " 'subsample':[i/100.0 for i in range(50,70,5)],\n",
        " 'colsample_bytree':[i/100.0 for i in range(70,90, 5)]\n",
        "}\n",
        "\n",
        "\n",
        "gsearch5 = GridSearchCV(estimator = XGBRegressor( learning_rate =0.1, n_estimators=91, max_depth=5,\n",
        " min_child_weight=2, gamma=0, subsample=0.8, colsample_bytree=0.8, seed=27), \n",
        " param_grid = param_test5, scoring='neg_mean_absolute_error',n_jobs=-1, cv=5)\n",
        "gsearch5.fit(preped_X ,y)\n",
        "\n",
        "\n",
        "cvresults = gsearch5.cv_results_\n",
        "for mean, params in zip(cvresults['mean_test_score'], cvresults['params']):\n",
        "  print((-mean), params)\n",
        "\n",
        "gsearch5.best_params_"
      ],
      "metadata": {
        "colab": {
          "base_uri": "https://localhost:8080/"
        },
        "id": "zhkesgzglgc3",
        "outputId": "dc16f879-24f5-477f-fdfb-cdde97b57ae7"
      },
      "execution_count": null,
      "outputs": [
        {
          "output_type": "stream",
          "name": "stdout",
          "text": [
            "[21:28:53] WARNING: /workspace/src/objective/regression_obj.cu:152: reg:linear is now deprecated in favor of reg:squarederror.\n",
            "15639.348975278253 {'colsample_bytree': 0.7, 'subsample': 0.5}\n",
            "15493.761683968321 {'colsample_bytree': 0.7, 'subsample': 0.55}\n",
            "15479.368073095035 {'colsample_bytree': 0.7, 'subsample': 0.6}\n",
            "15451.416293878425 {'colsample_bytree': 0.7, 'subsample': 0.65}\n",
            "15923.769263698628 {'colsample_bytree': 0.75, 'subsample': 0.5}\n",
            "15593.373432148972 {'colsample_bytree': 0.75, 'subsample': 0.55}\n",
            "15727.492604880137 {'colsample_bytree': 0.75, 'subsample': 0.6}\n",
            "15862.731375749145 {'colsample_bytree': 0.75, 'subsample': 0.65}\n",
            "16368.725390625 {'colsample_bytree': 0.8, 'subsample': 0.5}\n",
            "15887.68283390411 {'colsample_bytree': 0.8, 'subsample': 0.55}\n",
            "15330.715156785101 {'colsample_bytree': 0.8, 'subsample': 0.6}\n",
            "15909.433243257707 {'colsample_bytree': 0.8, 'subsample': 0.65}\n",
            "15867.921872324485 {'colsample_bytree': 0.85, 'subsample': 0.5}\n",
            "15816.667923266268 {'colsample_bytree': 0.85, 'subsample': 0.55}\n",
            "15328.644560680652 {'colsample_bytree': 0.85, 'subsample': 0.6}\n",
            "15968.441170804794 {'colsample_bytree': 0.85, 'subsample': 0.65}\n"
          ]
        },
        {
          "output_type": "execute_result",
          "data": {
            "text/plain": [
              "{'colsample_bytree': 0.85, 'subsample': 0.6}"
            ]
          },
          "metadata": {},
          "execution_count": 97
        }
      ]
    },
    {
      "cell_type": "code",
      "source": [
        "#check regulization checked [1e-5, 1e-2, 0.1, 1, 100] first, found 1 to be best\n",
        "param_test6 = {\n",
        " 'reg_alpha':[0.6, 0.55, 0.5]\n",
        "}\n",
        "gsearch6 = GridSearchCV(estimator = XGBRegressor( learning_rate =0.1, n_estimators=91, max_depth=5,\n",
        " min_child_weight=2, gamma=0, subsample=0.6, colsample_bytree=0.85,seed=27), \n",
        " param_grid = param_test6, scoring='neg_mean_absolute_error',n_jobs=-1, cv=5)\n",
        "gsearch6.fit(preped_X ,y)\n",
        "\n",
        "cvresults = gsearch6.cv_results_\n",
        "for mean, params in zip(cvresults['mean_test_score'], cvresults['params']):\n",
        "  print((-mean), params)\n",
        "\n",
        "gsearch6.best_params_\n",
        "\n"
      ],
      "metadata": {
        "colab": {
          "base_uri": "https://localhost:8080/"
        },
        "id": "Wg9MdlB1mevq",
        "outputId": "00dba510-cb75-4a6a-b75d-7c5c47bd3c1c"
      },
      "execution_count": null,
      "outputs": [
        {
          "output_type": "stream",
          "name": "stdout",
          "text": [
            "[21:35:38] WARNING: /workspace/src/objective/regression_obj.cu:152: reg:linear is now deprecated in favor of reg:squarederror.\n",
            "15314.421176690925 {'reg_alpha': 0.6}\n",
            "15328.644491117293 {'reg_alpha': 0.55}\n",
            "15328.644715860446 {'reg_alpha': 0.5}\n"
          ]
        },
        {
          "output_type": "execute_result",
          "data": {
            "text/plain": [
              "{'reg_alpha': 0.6}"
            ]
          },
          "metadata": {},
          "execution_count": 102
        }
      ]
    },
    {
      "cell_type": "code",
      "source": [
        "param_test7 = {\n",
        "    'reg_lambda': [0.8, 0.95, 1,1.05, 1.1, 1.3]\n",
        "}\n",
        "\n",
        "gsearch7 = GridSearchCV(estimator = XGBRegressor( learning_rate =0.1, n_estimators=148, max_depth=5,\n",
        " min_child_weight=2, gamma=0, subsample=0.6, colsample_bytree=0.85,seed=27,reg_alpha=0.6), \n",
        " param_grid = param_test7, scoring='neg_mean_absolute_error',n_jobs=-1, cv=5)\n",
        "gsearch7.fit(preped_X ,y)\n",
        "\n",
        "cvresults = gsearch7.cv_results_\n",
        "for mean, params in zip(cvresults['mean_test_score'], cvresults['params']):\n",
        "  print((-mean), params)\n",
        "\n",
        "gsearch7.best_params_\n",
        "\n"
      ],
      "metadata": {
        "colab": {
          "base_uri": "https://localhost:8080/"
        },
        "id": "qOKk_OeCoPdc",
        "outputId": "1d7c71dc-18b4-4d85-bc5b-65ae7bfcc7ab"
      },
      "execution_count": null,
      "outputs": [
        {
          "output_type": "stream",
          "name": "stdout",
          "text": [
            "[21:40:57] WARNING: /workspace/src/objective/regression_obj.cu:152: reg:linear is now deprecated in favor of reg:squarederror.\n",
            "15471.661732127566 {'reg_lambda': 0.8}\n",
            "15342.473482983734 {'reg_lambda': 0.95}\n",
            "15236.029818600171 {'reg_lambda': 1}\n",
            "15343.068929259414 {'reg_lambda': 1.05}\n",
            "15587.062168236302 {'reg_lambda': 1.1}\n",
            "15621.319520547946 {'reg_lambda': 1.3}\n"
          ]
        },
        {
          "output_type": "execute_result",
          "data": {
            "text/plain": [
              "{'reg_lambda': 1}"
            ]
          },
          "metadata": {},
          "execution_count": 110
        }
      ]
    },
    {
      "cell_type": "code",
      "source": [
        ""
      ],
      "metadata": {
        "id": "qFOdBYwlfhiF"
      },
      "execution_count": null,
      "outputs": []
    },
    {
      "cell_type": "code",
      "source": [
        "\n",
        "kfold = KFold(n_splits=3)\n",
        "scores = cross_val_score(xgb1, preped_X, y, scoring='neg_mean_absolute_error', cv=kfold, n_jobs=-1)\n",
        "display_scores(scores)\n",
        "xgb1.fit(preped_X, y,verbose=1)\n",
        "preds = xgb1.predict(preped_X_test)\n",
        "preds\n"
      ],
      "metadata": {
        "id": "pc0FKRn6VG4v",
        "colab": {
          "base_uri": "https://localhost:8080/"
        },
        "outputId": "de922680-1923-4e79-d145-80feb5f3f7f4"
      },
      "execution_count": null,
      "outputs": [
        {
          "output_type": "stream",
          "name": "stdout",
          "text": [
            "Scores: [-14709.34670175 -15976.78058425 -15466.30197081]\n",
            "Mean: -15384.143085602025\n",
            "Standard Deviation: 520.6788667664578\n",
            "[19:28:32] WARNING: /workspace/src/objective/regression_obj.cu:152: reg:linear is now deprecated in favor of reg:squarederror.\n"
          ]
        },
        {
          "output_type": "execute_result",
          "data": {
            "text/plain": [
              "array([127420.28, 159132.  , 181317.7 , ..., 170747.02, 115442.66,\n",
              "       218206.88], dtype=float32)"
            ]
          },
          "metadata": {},
          "execution_count": 25
        }
      ]
    },
    {
      "cell_type": "code",
      "source": [
        "sub = pd.DataFrame()\n",
        "sub['Id'] = test['Id']\n",
        "sub['SalePrice'] = preds\n",
        "sub.to_csv('Submission.csv', index=False)\n",
        "\n",
        "from google.colab import files\n",
        "\n",
        "files.download('Submission.csv')"
      ],
      "metadata": {
        "colab": {
          "base_uri": "https://localhost:8080/",
          "height": 34
        },
        "id": "pWlpHpimSfwB",
        "outputId": "7752e095-1173-4698-8a94-e1ac0e0954cf"
      },
      "execution_count": null,
      "outputs": [
        {
          "output_type": "display_data",
          "data": {
            "application/javascript": [
              "\n",
              "    async function download(id, filename, size) {\n",
              "      if (!google.colab.kernel.accessAllowed) {\n",
              "        return;\n",
              "      }\n",
              "      const div = document.createElement('div');\n",
              "      const label = document.createElement('label');\n",
              "      label.textContent = `Downloading \"${filename}\": `;\n",
              "      div.appendChild(label);\n",
              "      const progress = document.createElement('progress');\n",
              "      progress.max = size;\n",
              "      div.appendChild(progress);\n",
              "      document.body.appendChild(div);\n",
              "\n",
              "      const buffers = [];\n",
              "      let downloaded = 0;\n",
              "\n",
              "      const channel = await google.colab.kernel.comms.open(id);\n",
              "      // Send a message to notify the kernel that we're ready.\n",
              "      channel.send({})\n",
              "\n",
              "      for await (const message of channel.messages) {\n",
              "        // Send a message to notify the kernel that we're ready.\n",
              "        channel.send({})\n",
              "        if (message.buffers) {\n",
              "          for (const buffer of message.buffers) {\n",
              "            buffers.push(buffer);\n",
              "            downloaded += buffer.byteLength;\n",
              "            progress.value = downloaded;\n",
              "          }\n",
              "        }\n",
              "      }\n",
              "      const blob = new Blob(buffers, {type: 'application/binary'});\n",
              "      const a = document.createElement('a');\n",
              "      a.href = window.URL.createObjectURL(blob);\n",
              "      a.download = filename;\n",
              "      div.appendChild(a);\n",
              "      a.click();\n",
              "      div.remove();\n",
              "    }\n",
              "  "
            ],
            "text/plain": [
              "<IPython.core.display.Javascript object>"
            ]
          },
          "metadata": {}
        },
        {
          "output_type": "display_data",
          "data": {
            "application/javascript": [
              "download(\"download_18c9ac81-edff-4180-9373-5bad2e203b04\", \"Submission.csv\", 21671)"
            ],
            "text/plain": [
              "<IPython.core.display.Javascript object>"
            ]
          },
          "metadata": {}
        }
      ]
    },
    {
      "cell_type": "code",
      "source": [
        "#when all tuning is done lower the learning rate and see the effect  best lr=0.06 4800\n",
        "xgb1 = XGBRegressor(\n",
        " learning_rate =0.06,\n",
        " n_estimators=299,\n",
        " max_depth=5,\n",
        " min_child_weight=2,\n",
        " gamma=0,\n",
        " subsample=0.6,\n",
        " seed=27,\n",
        " reg_alpha=0.6,\n",
        " reg_lambda=1,\n",
        " colsample_bytree=0.85,)"
      ],
      "metadata": {
        "id": "8oXh81sGPSUN"
      },
      "execution_count": null,
      "outputs": []
    }
  ]
}